{
 "cells": [
  {
   "cell_type": "code",
   "execution_count": 8,
   "metadata": {},
   "outputs": [
    {
     "name": "stdout",
     "output_type": "stream",
     "text": [
      "[1, 4, 9, 16, 25, 36, 49, 64, 81, 100]\n"
     ]
    }
   ],
   "source": [
    "all = [0] * 100\n",
    "\n",
    "i = 0\n",
    "iii=0\n",
    "result = []\n",
    "\n",
    "while i < 100:\n",
    "    ii = i\n",
    "    while ii < 100:\n",
    "        if all[ii] == 0:\n",
    "            all[ii] = 1\n",
    "        else:\n",
    "            all[ii] = 0\n",
    "        ii += i + 1\n",
    "    i += 1\n",
    "\n",
    "\n",
    "while iii < 100:\n",
    "    if all[iii] == 1:\n",
    "        result.append(iii+1)\n",
    "    iii += 1\n",
    "\n",
    "print(result)"
   ]
  }
 ],
 "metadata": {
  "kernelspec": {
   "display_name": "Python 3",
   "language": "python",
   "name": "python3"
  },
  "language_info": {
   "codemirror_mode": {
    "name": "ipython",
    "version": 3
   },
   "file_extension": ".py",
   "mimetype": "text/x-python",
   "name": "python",
   "nbconvert_exporter": "python",
   "pygments_lexer": "ipython3",
   "version": "3.10.13"
  }
 },
 "nbformat": 4,
 "nbformat_minor": 2
}

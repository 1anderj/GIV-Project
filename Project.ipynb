{
 "cells": [
  {
   "cell_type": "code",
   "execution_count": 40,
   "metadata": {},
   "outputs": [],
   "source": [
    "def fibonacci(f1, f2, n):\n",
    "   \n",
    "    import math as maths\n",
    "    #stand-up maths reference\n",
    "\n",
    "    print(f2, '÷', f1, '=', f2 / f1)\n",
    "    i = 0\n",
    "    while i < n:\n",
    "        f = f1\n",
    "        f1 = f2\n",
    "        f2 += f\n",
    "        i += 1\n",
    "        print(f2, '÷', f1, '=', f2 / f1)\n",
    "    print('Difference from acutal value:', f2 / f1 - ((1 + maths.sqrt(5)) / 2))\n"
   ]
  },
  {
   "cell_type": "code",
   "execution_count": 41,
   "metadata": {},
   "outputs": [],
   "source": [
    "def nested_radical(n):\n",
    "   \n",
    "    import math as maths\n",
    "    #stand-up maths reference\n",
    "\n",
    "    i = 1\n",
    "    value = 1\n",
    "    print('1:', value)\n",
    "    while i < n:\n",
    "        value = maths.sqrt(1 + value)\n",
    "        print(i+1, ': ', value, sep='')\n",
    "        i += 1\n",
    "    print('Difference from acutal value:', value - ((1 + maths.sqrt(5)) / 2))\n"
   ]
  },
  {
   "cell_type": "code",
   "execution_count": 43,
   "metadata": {},
   "outputs": [],
   "source": [
    "def continued_fraction(n):\n",
    "    i = 1\n",
    "    value = 1\n",
    "    print('1:', value)\n",
    "    while i < n:\n",
    "        value = 1 + 1 / value\n",
    "        print(i+1, ': ', value, sep='')\n",
    "        i += 1\n",
    "    print('Difference from acutal value:', value - ((1 + maths.sqrt(5)) / 2))"
   ]
  },
  {
   "cell_type": "code",
   "execution_count": 36,
   "metadata": {},
   "outputs": [
    {
     "name": "stdout",
     "output_type": "stream",
     "text": [
      "1: 1\n",
      "2: 2.0\n",
      "3: 1.5\n",
      "4: 1.6666666666666665\n",
      "5: 1.6\n",
      "6: 1.625\n",
      "7: 1.6153846153846154\n",
      "8: 1.619047619047619\n",
      "9: 1.6176470588235294\n",
      "10: 1.6181818181818182\n",
      "11: 1.6179775280898876\n",
      "12: 1.6180555555555556\n",
      "Difference from acutal value: 2.15668056606777e-05\n"
     ]
    }
   ],
   "source": [
    "continued_fraction(12)"
   ]
  }
 ],
 "metadata": {
  "kernelspec": {
   "display_name": "Python 3",
   "language": "python",
   "name": "python3"
  },
  "language_info": {
   "codemirror_mode": {
    "name": "ipython",
    "version": 3
   },
   "file_extension": ".py",
   "mimetype": "text/x-python",
   "name": "python",
   "nbconvert_exporter": "python",
   "pygments_lexer": "ipython3",
   "version": "3.10.13"
  }
 },
 "nbformat": 4,
 "nbformat_minor": 2
}

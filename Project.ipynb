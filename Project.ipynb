{
 "cells": [
  {
   "cell_type": "markdown",
   "metadata": {},
   "source": [
    "# Golden Ratio\n",
    "The golden ratio, denoted ϕ, is an irrational constant equal to $\\frac{1+\\sqrt{5}}{2}$, or approximately 1.618. It may be defined as follows: For a and b with a > b > 0, a:b is the golden ratio if $\\frac{a+b}{a}=\\frac{a}{b}$.\n",
    "The golden ratio shows up in numerous places in nature including flower petals and seed heads and is also frequently encountered in the geometry of pentagons and dodecahedra. Other reasons that the golden ratio is special include that it is the the ratio between adjacent terms in any generalized Fibonacci sequence approach and that it can be represented as a nested radical or continued fraction."
   ]
  },
  {
   "cell_type": "markdown",
   "metadata": {},
   "source": [
    "## Ratio between Fibonacci numbers\n",
    "\n",
    "The Fibonacci sequence is the sequence of numbers defined by $F_n=F_{n-1}+F_{n-2}$ with $F_1=F_2=1$.\n",
    "The ratio between adjacent terms in the sequence, $\\frac{F_n}{F_{n-1}}$, approaches the golden ratio as n increases. This is true more generally of any Fibonaccci-style sequence, where $S_n=S_{n-1}+S_{n-2}$, regardless of the intitial terms.\n",
    "\n",
    "The code below defines a function, fibonacci(f1, f2, n), that prints the first n ratios between terms of the generalized fibonacci sequence with initial terms f1 and f2. It also gives the difference between the final ratio and the actual value of the golden ratio.\n",
    "\n",
    "**In the code box below, click the play button or press shift + enter to see the output.**"
   ]
  },
  {
   "cell_type": "code",
   "execution_count": 29,
   "metadata": {},
   "outputs": [
    {
     "name": "stdout",
     "output_type": "stream",
     "text": [
      "1 ÷ 1 = 1.0\n",
      "2 ÷ 1 = 2.0\n",
      "3 ÷ 2 = 1.5\n",
      "5 ÷ 3 = 1.6666666666666667\n",
      "8 ÷ 5 = 1.6\n",
      "13 ÷ 8 = 1.625\n",
      "21 ÷ 13 = 1.6153846153846154\n",
      "34 ÷ 21 = 1.619047619047619\n",
      "55 ÷ 34 = 1.6176470588235294\n",
      "89 ÷ 55 = 1.6181818181818182\n",
      "144 ÷ 89 = 1.6179775280898876\n",
      "233 ÷ 144 = 1.6180555555555556\n",
      "Difference from acutal value: 2.15668056606777e-05\n"
     ]
    }
   ],
   "source": [
    "f1 = int(input('First term: '))\n",
    "f2 = int(input('Second term: '))\n",
    "n = int(input('Number of iterations: '))\n",
    "\n",
    "def fibonacci(f1, f2, n):\n",
    "   \n",
    "    import math as maths    #stand-up maths reference\n",
    "\n",
    "    print(f2, '÷', f1, '=', f2 / f1)\n",
    "\n",
    "    for i in range(n-1):\n",
    "        f = f1\n",
    "        f1 = f2\n",
    "        f2 += f\n",
    "        print(f2, '÷', f1, '=', f2 / f1)\n",
    "    print('Difference from acutal value:', f2 / f1 - ((1 + maths.sqrt(5)) / 2))\n",
    "\n",
    "fibonacci(f1, f2, n)"
   ]
  },
  {
   "cell_type": "markdown",
   "metadata": {},
   "source": [
    "## Nested radical\n",
    "\n",
    "The infinitely nested radical $\\sqrt{1+\\sqrt{1+\\sqrt{1+\\sqrt{1+\\ldots}}}}$ is equal to the golden ratio. The function defined below, nested_radical(n), starts with a value of 1 and then repeatedly produces a new value by taking the square root of one more than the previous value. This results in an approximation of the infinite nested radical using n 1s and n+1 radicals.\n",
    "\n",
    "**In the code box below, click the play button or press shift + enter to see the output.**"
   ]
  },
  {
   "cell_type": "code",
   "execution_count": 19,
   "metadata": {},
   "outputs": [
    {
     "name": "stdout",
     "output_type": "stream",
     "text": [
      "1: 1\n",
      "1: 1.4142135623730951\n",
      "2: 1.5537739740300374\n",
      "3: 1.5980531824786175\n",
      "4: 1.6118477541252516\n",
      "5: 1.616121206508117\n",
      "6: 1.6174427985273905\n",
      "Difference from acutal value: -0.000591190222504423\n"
     ]
    }
   ],
   "source": [
    "n = int(input('Number of iterations: '))\n",
    "\n",
    "def nested_radical(n):\n",
    "   \n",
    "    import math as maths    #stand-up maths reference\n",
    "\n",
    "    value = 1\n",
    "    print('1:', value)\n",
    "    for i in range(n):\n",
    "        value = maths.sqrt(1 + value)\n",
    "        print(i+1, ': ', value, sep='')\n",
    "        i += 1\n",
    "    print('Difference from acutal value:', value - ((1 + maths.sqrt(5)) / 2))\n",
    "\n",
    "nested_radical(n)\n"
   ]
  },
  {
   "cell_type": "markdown",
   "metadata": {},
   "source": [
    "## Continued fraction\n",
    "\n",
    "The continued fraction $1+\\frac{1}{1+\\frac{1}{1+\\frac{1}{1+\\ldots}}}$ is also equal to the golden ratio. The function defined below, continued_fraction(n), starts with a value of 1 and then repeatedly produces a new value by adding one to the reciprocal of the previous value. This results in an approximation of the continued fraction with n levels.\n",
    "\n",
    "**In the code box below, click the play button or press shift + enter to see the output.**"
   ]
  },
  {
   "cell_type": "code",
   "execution_count": 27,
   "metadata": {},
   "outputs": [
    {
     "name": "stdout",
     "output_type": "stream",
     "text": [
      "1: 1\n",
      "2: 2.0\n",
      "3: 1.5\n",
      "4: 1.6666666666666665\n",
      "5: 1.6\n",
      "6: 1.625\n",
      "7: 1.6153846153846154\n",
      "8: 1.619047619047619\n",
      "9: 1.6176470588235294\n",
      "10: 1.6181818181818182\n",
      "11: 1.6179775280898876\n",
      "12: 1.6180555555555556\n",
      "Difference from acutal value: 2.15668056606777e-05\n"
     ]
    }
   ],
   "source": [
    "n = int(input('Number of iterations: '))\n",
    "\n",
    "def continued_fraction(n):\n",
    "\n",
    "    import math as maths    #stand-up maths reference\n",
    "\n",
    "    value = 1\n",
    "    print('1:', value)\n",
    "    for i in range(1, n):\n",
    "        value = 1 + 1 / value\n",
    "        print(i+1, ': ', value, sep='')\n",
    "    print('Difference from acutal value:', value - ((1 + maths.sqrt(5)) / 2))\n",
    "\n",
    "continued_fraction(n)\n",
    "\n",
    "\n",
    "    "
   ]
  }
 ],
 "metadata": {
  "kernelspec": {
   "display_name": "Python 3",
   "language": "python",
   "name": "python3"
  },
  "language_info": {
   "codemirror_mode": {
    "name": "ipython",
    "version": 3
   },
   "file_extension": ".py",
   "mimetype": "text/x-python",
   "name": "python",
   "nbconvert_exporter": "python",
   "pygments_lexer": "ipython3",
   "version": "3.10.13"
  }
 },
 "nbformat": 4,
 "nbformat_minor": 2
}

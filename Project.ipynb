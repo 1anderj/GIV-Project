{
 "cells": [
  {
   "cell_type": "markdown",
   "metadata": {},
   "source": [
    "# Introduction\n",
    "\n",
    "This project uses Python to show various ways that irrational numbers can be approximated based on infinite representations through iterative processes. One thing that I hope this helps to illustrate is the incredible interconnectedness of mathematics. I think it is amazing that the same constants can be relevant in so many contexts and that processes that seem entirely unrelated can produce the same result."
   ]
  },
  {
   "cell_type": "markdown",
   "metadata": {},
   "source": [
    "## Golden Ratio\n",
    "The golden ratio, denoted ϕ, is an irrational constant equal to $\\frac{1+\\sqrt{5}}{2}$, or approximately 1.618. For a and b with a > b > 0, a : b is the golden ratio if $\\frac{a+b}{a}=\\frac{a}{b}$ (i.e., small part to large part equals large part to whole). Similarly, only a rectangle with side lengths in the ratio 1 : ϕ can be partitioned into a square and a rectangle similar to the original.\n",
    "\n",
    "<table><tr>\n",
    "<td> <img src=\"https://upload.wikimedia.org/wikipedia/commons/thumb/4/44/Golden_ratio_line.svg/440px-Golden_ratio_line.svg.png\" style=\"width: 250px;\"/> </td>\n",
    "<td> <img src=\"https://mathworld.wolfram.com/images/eps-svg/GoldenRatio_1401.svg\" style=\"width: 250px;\"/> </td>\n",
    "</tr></table>\n",
    "\n",
    "The golden ratio shows up in numerous places in nature including flower petals and seed heads and is also frequently encountered in the geometry of pentagons and dodecahedra. Other reasons that the golden ratio is special include that it is the the ratio between adjacent terms in any generalized Fibonacci sequence approach and that it can be represented as a nested radical or continued fraction."
   ]
  },
  {
   "cell_type": "markdown",
   "metadata": {},
   "source": [
    "### Ratio between Fibonacci numbers\n",
    "\n",
    "The Fibonacci sequence is the sequence of numbers defined by $F_n=F_{n-1}+F_{n-2}$ with $F_1=F_2=1$.\n",
    "The ratio between adjacent terms in the sequence, $\\frac{F_n}{F_{n-1}}$, approaches the golden ratio as n increases. This is true more generally of any Fibonaccci-style sequence, where $S_n=S_{n-1}+S_{n-2}$, regardless of the intitial terms.\n",
    "\n",
    "The code below defines a function, fibonacci(f1, f2, n), that prints the first n ratios between terms of the generalized fibonacci sequence with initial terms f1 and f2. It also gives the difference between the final ratio and the actual value of the golden ratio.\n",
    "\n",
    "**In the code box below, click the play button or press** control-enter **to see the output.**"
   ]
  },
  {
   "cell_type": "code",
   "execution_count": null,
   "metadata": {},
   "outputs": [],
   "source": [
    "f1 = int(input('First term: '))\n",
    "f2 = int(input('Second term: '))\n",
    "n = int(input('Number of iterations: '))\n",
    "\n",
    "def fibonacci(f1, f2, n):\n",
    "   \n",
    "    import math as maths    #stand-up maths reference\n",
    "\n",
    "    print(f2, '÷', f1, '=', f2 / f1)\n",
    "\n",
    "    for i in range(n-1):\n",
    "        f = f1\n",
    "        f1 = f2\n",
    "        f2 += f\n",
    "        print(f2, '÷', f1, '=', f2 / f1)\n",
    "    print('Difference from acutal value:', f2 / f1 - ((1 + maths.sqrt(5)) / 2))\n",
    "\n",
    "fibonacci(f1, f2, n)"
   ]
  },
  {
   "cell_type": "markdown",
   "metadata": {},
   "source": [
    "### Nested radical\n",
    "\n",
    "The infinitely nested radical $\\sqrt{1+\\sqrt{1+\\sqrt{1+\\sqrt{1+\\ldots}}}}$ is equal to the golden ratio. The function defined below, nested_radical(n), starts with a value of 1 and then repeatedly produces a new value by taking the square root of one more than the previous value. This results in an approximation of the infinite nested radical using n 1s and n+1 radicals.\n",
    "\n",
    "**In the code box below, click the play button or press** control-enter **to see the output.**"
   ]
  },
  {
   "cell_type": "code",
   "execution_count": null,
   "metadata": {},
   "outputs": [],
   "source": [
    "n = int(input('Number of iterations: '))\n",
    "\n",
    "def nested_radical(n):\n",
    "   \n",
    "    import math as maths    #stand-up maths reference\n",
    "\n",
    "    value = 1\n",
    "    print('1:', value)\n",
    "    for i in range(n):\n",
    "        value = maths.sqrt(1 + value)\n",
    "        print(i + 1, ': ', value, sep='')\n",
    "        i += 1\n",
    "    print('Difference from acutal value:', value - ((1 + maths.sqrt(5)) / 2))\n",
    "\n",
    "nested_radical(n)"
   ]
  },
  {
   "cell_type": "markdown",
   "metadata": {},
   "source": [
    "### Continued fraction\n",
    "\n",
    "The continued fraction $1+\\frac{1}{1+\\frac{1}{1+\\frac{1}{1+\\ldots}}}$ is also equal to the golden ratio. The function defined below, continued_fraction(n), starts with a value of 1 and then repeatedly produces a new value by adding one to the reciprocal of the previous value. This results in an approximation of the continued fraction with n levels.\n",
    "\n",
    "**In the code box below, click the play button or press** control-enter **to see the output.**"
   ]
  },
  {
   "cell_type": "code",
   "execution_count": null,
   "metadata": {},
   "outputs": [],
   "source": [
    "n = int(input('Number of iterations: '))\n",
    "\n",
    "def continued_fraction(n):\n",
    "\n",
    "    import math as maths    #stand-up maths reference\n",
    "\n",
    "    value = 1\n",
    "    print('1:', value)\n",
    "    for i in range(1, n):\n",
    "        value = 1 + 1 / value\n",
    "        print(i + 1, ': ', value, sep='')\n",
    "    print('Difference from acutal value:', value - ((1 + maths.sqrt(5)) / 2))\n",
    "\n",
    "continued_fraction(n)"
   ]
  },
  {
   "cell_type": "markdown",
   "metadata": {},
   "source": [
    "## Tau\n",
    "\n",
    "Tau (denoted τ) is, like the more familiar π, a circle constant. τ is equal to the ratio of the circumfrence to the diameter of a circle. Its value is therefore twice that of π, or about 6.18. τ is relevant in all the same contexts as π; any equation involving π can easily be rewritten to be in terms of τ. The choice of which circle constant to use for any given purpose can be viewed as a matter of personal preference. For this project I have chosen to use τ.\n",
    "\n",
    "τ and π are perhaps the constants most likely to appear when one least expects them. Not only are they part of virtually every formula or equation involving the geometry of anything round, but they are found in such seemingly ungeometric contexts as the [Mandelbrot set](https://youtube.com/watch?v=d0vY0CKYhPY), [the formula for a normal distribution](https://www.3blue1brown.com/lessons/gaussian-integral), [the distribution of primes](https://youtube.com/watch?v=NaL_Cb42WyY), and of course Euler's identity, $e^{iτ}=1$."
   ]
  },
  {
   "cell_type": "markdown",
   "metadata": {},
   "source": [
    "### Leibniz formula for $\\pi$\n",
    "\n",
    "### $\\sum_{k=1}^{\\infty} \\frac{(-1)^{k+1}}{2 k-1}=1-\\frac{1}{3}+\\frac{1}{5}-\\ldots=\\frac{\\tau}{8}$"
   ]
  },
  {
   "cell_type": "code",
   "execution_count": null,
   "metadata": {},
   "outputs": [],
   "source": [
    "n = int(input('Number of terms: '))\n",
    "\n",
    "def leibniz(n):\n",
    "\n",
    "    import math as maths    #stand-up maths reference\n",
    "\n",
    "    for i in range(1, n + 1):\n",
    "        value = sum(((-1) ** (k + 1)) / (2 * k - 1) for k in range(1, i))\n",
    "        print(i, ': ', value, sep='')\n",
    "    \n",
    "    print('Difference from actual value:', value - maths.pi / 4)\n",
    "\n",
    "leibniz(n) "
   ]
  },
  {
   "cell_type": "markdown",
   "metadata": {},
   "source": [
    "### Nilkantha’s series\n",
    "\n",
    "### $\\sum_{k=1}^{\\infty} \\frac{(-1)^{k+1}}{2 k(2 k+1)(2 k+2)}=\\frac{1}{2 \\cdot 3 \\cdot 4}-\\frac{1}{4 \\cdot 5 \\cdot 6}+\\frac{1}{6 \\cdot 7 \\cdot 8}-\\ldots = \\frac{1}{8}(\\tau-6)$"
   ]
  },
  {
   "cell_type": "code",
   "execution_count": null,
   "metadata": {},
   "outputs": [],
   "source": [
    "n = int(input('Number of terms: '))\n",
    "\n",
    "def nilkantha(n):\n",
    "\n",
    "    import math as maths    #stand-up maths reference\n",
    "\n",
    "    for i in range(1, n + 1):\n",
    "        value = sum(((-1) ** (k + 1)) / (2 * k * (2 * k + 1) * (2 * + 2)) for k in range(1, i))\n",
    "        print(i, ': ', value, sep='')\n",
    "    \n",
    "    print('Difference from actual value:', value - (1 / 4) * (maths.pi - 3))\n",
    "\n",
    "nilkantha(n) "
   ]
  },
  {
   "cell_type": "markdown",
   "metadata": {},
   "source": [
    "### Basel problem\n",
    "\n",
    "### $\\sum_{k=1}^{\\infty} \\frac{1}{k^2}=1+\\frac{1}{4}+\\frac{1}{9}+\\frac{1}{16}+\\frac{1}{25}+\\ldots=\\frac{1}{24}\\tau^2$"
   ]
  },
  {
   "cell_type": "code",
   "execution_count": null,
   "metadata": {},
   "outputs": [],
   "source": [
    "n = int(input('Number of terms: '))\n",
    "\n",
    "def basel(n):\n",
    "\n",
    "    import math as maths    #stand-up maths reference\n",
    "\n",
    "    for i in range(1, n + 1):\n",
    "        value = sum(1 / k ** 2 for k in range(1, i))\n",
    "        print(i, ': ', value, sep='')\n",
    "    \n",
    "    print('Difference from actual value:', value - (1 / 6) * maths.pi ** 2)\n",
    "\n",
    "basel(n) "
   ]
  },
  {
   "cell_type": "markdown",
   "metadata": {},
   "source": [
    "### Newton / Euler convergence transformation\n",
    "\n",
    "### $\\frac{1}{2} \\sum_{n=0}^{\\infty} \\frac{(n!)^2 2^{n+1}}{(2 n+1)!}=\\sum_{n=0}^{\\infty} \\frac{n!}{(2 n+1)!!}=1+\\frac{1}{3}+\\frac{1\\cdot2}{3\\cdot5}+\\frac{1\\cdot2\\cdot3}{3\\cdot5\\cdot7}+...=1+\\frac{1}{3}\\left(1+\\frac{2}{5}\\left(1+\\frac{3}{7}\\left(1+\\frac{4}{9}\\left(1+...\\right)\\right)\\right)\\right)=\\frac{\\tau}{4}$\n",
    "\n",
    "Where m!! is the double factorial, the product of the positive integers up to m with the same parity (odd or even)."
   ]
  },
  {
   "cell_type": "code",
   "execution_count": null,
   "metadata": {},
   "outputs": [],
   "source": [
    "n = int(input('Number of terms: '))\n",
    "\n",
    "def newton_euler_convergence(n):\n",
    "\n",
    "    import math as maths    #stand-up maths reference\n",
    "    from scipy.special import factorial2\n",
    "\n",
    "    for i in range(n + 1):\n",
    "        value = sum(maths.factorial(k) / factorial2(2 * k + 1) for k in range(i))\n",
    "        print(i, ': ', value, sep='')\n",
    "    \n",
    "    print('Difference from actual value:', value - maths.pi / 2)\n",
    "\n",
    "newton_euler_convergence(n)"
   ]
  },
  {
   "cell_type": "markdown",
   "metadata": {},
   "source": [
    "### Viète's formula\n",
    "\n",
    "### $\\frac{\\sqrt{2}}2\\cdot\\frac{\\sqrt{2+\\sqrt{2}}}2\\cdot\\frac{\\sqrt{2+\\sqrt{2+\\sqrt{2}}}}2\\cdots=\\frac{4}{\\tau}$"
   ]
  },
  {
   "cell_type": "code",
   "execution_count": null,
   "metadata": {},
   "outputs": [],
   "source": [
    "n = int(input('Number of iterations: '))\n",
    "\n",
    "def viète(n):\n",
    "\n",
    "    import math as maths    #stand-up maths reference\n",
    "\n",
    "    for i in range(1, n + 1):\n",
    "        value = 1\n",
    "        for ii in range(1, i + 1):\n",
    "            a = 0\n",
    "            for iii in range(1, ii + 1):\n",
    "                a = maths.sqrt(2 + a)\n",
    "            a = a / 2\n",
    "            value = a * value\n",
    "        print(i, ': ', value, sep='')\n",
    "    print('Difference from acutal value:', value - 2 / maths.pi)\n",
    "\n",
    "viète(n)"
   ]
  }
 ],
 "metadata": {
  "kernelspec": {
   "display_name": "Python 3",
   "language": "python",
   "name": "python3"
  },
  "language_info": {
   "codemirror_mode": {
    "name": "ipython",
    "version": 3
   },
   "file_extension": ".py",
   "mimetype": "text/x-python",
   "name": "python",
   "nbconvert_exporter": "python",
   "pygments_lexer": "ipython3",
   "version": "3.10.13"
  }
 },
 "nbformat": 4,
 "nbformat_minor": 2
}
